{
  "nbformat": 4,
  "nbformat_minor": 0,
  "metadata": {
    "colab": {
      "name": "Scrap_concu_intendance.ipynb",
      "provenance": [],
      "collapsed_sections": []
    },
    "kernelspec": {
      "name": "python3",
      "display_name": "Python 3"
    }
  },
  "cells": [
    {
      "cell_type": "markdown",
      "metadata": {
        "id": "8Vp2whpW66U6"
      },
      "source": [
        "Import des librairies"
      ]
    },
    {
      "cell_type": "code",
      "metadata": {
        "id": "M4SqSmVq61jQ"
      },
      "source": [
        "import requests\n",
        "from bs4 import BeautifulSoup\n",
        "import pandas as pd "
      ],
      "execution_count": 1,
      "outputs": []
    },
    {
      "cell_type": "markdown",
      "metadata": {
        "id": "41_R3FZy7AXi"
      },
      "source": [
        "Scrap La fourche Vrac\n"
      ]
    },
    {
      "cell_type": "code",
      "metadata": {
        "id": "yP1zLo7Q6_Xl"
      },
      "source": [
        "liste_produits_vrac = []\n",
        "\n",
        "for i in range(1,4):\n",
        "\n",
        "    url = \"https://lafourche.fr/collections/vrac-bio?gclid=CjwKCAiAo5qABhBdEiwAOtGmbnisliZHDioBrTMIJ0FEmDwBd63eWjOgt5_WHR0aMQOJQlUFpCak7BoCVIMQAvD_BwE&page=\"+str(i)\n",
        "    r = requests.get(url)\n",
        "    content = r.content\n",
        "    page = BeautifulSoup(content,'html.parser')\n",
        "    produits = page.find_all('div', class_=\"jsx-233148101 content\")\n",
        "    categorie = \"vrac\"\n",
        "    \n",
        "    for x in range(len(produits)):\n",
        "        nom_produit = produits[x].find('a', class_ =\"jsx-233148101 title\").text\n",
        "\n",
        "        prix_produit = produits[x].find('p', class_ ='jsx-233148101 price').text.replace(\"\\xa0\",\"\")\n",
        "        ratio_prix_quantite = produits[x].find('span', class_ = 'jsx-233148101 unit-price').text.replace(\"\\xa0\",\"\")\n",
        "        liste_produits_vrac.append([nom_produit, prix_produit, ratio_prix_quantite, categorie])\n",
        "    produits_2 = page.find_all('div', class_=\"jsx-3061893572 content\")\n",
        "    for x in range(len(produits_2)):\n",
        "        nom_produit = produits_2[x].find('a', class_ =\"jsx-3061893572 title\").text\n",
        "\n",
        "        prix_produit = produits_2[x].find('p', class_ ='jsx-3061893572 price').text.replace(\"\\xa0\",\"\")\n",
        "        ratio_prix_quantite = produits_2[x].find('span', class_ = 'jsx-3061893572 unit-price').text.replace(\"\\xa0\",\"\")\n",
        "        \n",
        "        \n",
        "        liste_produits_vrac.append([nom_produit, prix_produit, ratio_prix_quantite, categorie])\n",
        "    \n",
        "    df_produits_vrac = pd.DataFrame(liste_produits_vrac)"
      ],
      "execution_count": 2,
      "outputs": []
    },
    {
      "cell_type": "code",
      "metadata": {
        "colab": {
          "base_uri": "https://localhost:8080/",
          "height": 32
        },
        "id": "enqAc7hc8C12",
        "outputId": "b598c545-2c8d-4d93-d0b7-1a19bf59a1b9"
      },
      "source": [
        "df_produits_vrac"
      ],
      "execution_count": 3,
      "outputs": [
        {
          "output_type": "execute_result",
          "data": {
            "text/html": [
              "<div>\n",
              "<style scoped>\n",
              "    .dataframe tbody tr th:only-of-type {\n",
              "        vertical-align: middle;\n",
              "    }\n",
              "\n",
              "    .dataframe tbody tr th {\n",
              "        vertical-align: top;\n",
              "    }\n",
              "\n",
              "    .dataframe thead th {\n",
              "        text-align: right;\n",
              "    }\n",
              "</style>\n",
              "<table border=\"1\" class=\"dataframe\">\n",
              "  <thead>\n",
              "    <tr style=\"text-align: right;\">\n",
              "      <th></th>\n",
              "    </tr>\n",
              "  </thead>\n",
              "  <tbody>\n",
              "  </tbody>\n",
              "</table>\n",
              "</div>"
            ],
            "text/plain": [
              "Empty DataFrame\n",
              "Columns: []\n",
              "Index: []"
            ]
          },
          "metadata": {},
          "execution_count": 3
        }
      ]
    },
    {
      "cell_type": "markdown",
      "metadata": {
        "id": "8nVxuJQw8HhA"
      },
      "source": [
        "Scrap tous les produits la fourche"
      ]
    },
    {
      "cell_type": "code",
      "metadata": {
        "colab": {
          "base_uri": "https://localhost:8080/"
        },
        "id": "umyhOV3Z8Lqw",
        "outputId": "bf36e68b-0b6f-41d0-c828-52210287a2ce"
      },
      "source": [
        "liste_produits = []\n",
        "# url = \"https://lafourche.fr/collections/epicerie-salee-bio\"\n",
        "# r = requests.get(url)\n",
        "# content = r.content\n",
        "# page = BeautifulSoup(content,'html.parser')\n",
        "# pagination = page.find('div', class_=\"ais-Pagination\")\n",
        "# pagination = page.find_all('a', class_=\"ais-Pagination-link\")\n",
        "# nb_pages = len(pagination)\n",
        "url_a_scrapper = [\"https://lafourche.fr/collections/epicerie-salee-bio?page=\", \"https://lafourche.fr/collections/epicerie-sucree-bio?page=\", \"https://lafourche.fr/collections/vrac-bio?page=\", \"https://lafourche.fr/collections/boissons-bio?page=\", \"https://lafourche.fr/collections/boissons-alcoolisees?page=\", \"https://lafourche.fr/collections/beaute-hygiene-bio?page=\", \"https://lafourche.fr/collections/sante-bio?page=\", \"https://lafourche.fr/collections/bebe-bio-ecologique?page=\", \"https://lafourche.fr/collections/maison-ecologique?page=\", \"https://lafourche.fr/collections/nouveautes?page=\"]\n",
        "categories = [\"epicerie-salée-bio\", \"epicerie-sucrée-bio\", \"vrac\", \"boissons\", \"alcools\", \"higyene\", \"sante\", \"bebe\", \"maison\", \"nouveautés\"]\n",
        "\n",
        "for i in range(0, len(url_a_scrapper)):\n",
        "  print(url_a_scrapper[i])\n",
        "  for k in range(1,30):\n",
        "    try:\n",
        "        url = url_a_scrapper[i]+str(k)\n",
        "        r = requests.get(url)\n",
        "        content = r.content\n",
        "        page = BeautifulSoup(content,'html.parser')\n",
        "        produits = page.find_all('div', class_=\"jsx-233148101 content\")\n",
        "        categorie = categories[i]\n",
        "        \n",
        "        for x in range(len(produits)):\n",
        "            nom_produit = produits[x].find('a', class_ =\"jsx-233148101 title\").text\n",
        "\n",
        "            prix_produit = produits[x].find('p', class_ ='jsx-233148101 price').text.replace(\"\\xa0\",\"\")\n",
        "            ratio_prix_quantite = produits[x].find('span', class_ = 'jsx-233148101 unit-price').text.replace(\"\\xa0\",\"\")\n",
        "            \n",
        "            \n",
        "            liste_produits.append([nom_produit, prix_produit, ratio_prix_quantite, categorie])\n",
        "\n",
        "        \n",
        "        produits_2 = page.find_all('div', class_=\"jsx-3061893572 content\")\n",
        "        for x in range(len(produits_2)):\n",
        "            nom_produit = produits_2[x].find('a', class_ =\"jsx-3061893572 title\").text\n",
        "\n",
        "            prix_produit = produits_2[x].find('p', class_ ='jsx-3061893572 price').text.replace(\"\\xa0\",\"\")\n",
        "            ratio_prix_quantite = produits_2[x].find('span', class_ = 'jsx-3061893572 unit-price').text.replace(\"\\xa0\",\"\")\n",
        "            \n",
        "            \n",
        "            liste_produits.append([nom_produit, prix_produit, ratio_prix_quantite, categorie])\n",
        "          \n",
        "    except:\n",
        "          print(\"il n'y a plus de page\" +str(k))\n",
        "    \n"
      ],
      "execution_count": 4,
      "outputs": [
        {
          "output_type": "stream",
          "text": [
            "https://lafourche.fr/collections/epicerie-salee-bio?page=\n",
            "https://lafourche.fr/collections/epicerie-sucree-bio?page=\n",
            "https://lafourche.fr/collections/vrac-bio?page=\n",
            "il n'y a plus de page11\n",
            "il n'y a plus de page12\n",
            "https://lafourche.fr/collections/boissons-bio?page=\n",
            "il n'y a plus de page5\n",
            "il n'y a plus de page6\n",
            "https://lafourche.fr/collections/boissons-alcoolisees?page=\n",
            "https://lafourche.fr/collections/beaute-hygiene-bio?page=\n",
            "https://lafourche.fr/collections/sante-bio?page=\n",
            "il n'y a plus de page7\n",
            "il n'y a plus de page8\n",
            "https://lafourche.fr/collections/bebe-bio-ecologique?page=\n",
            "https://lafourche.fr/collections/maison-ecologique?page=\n",
            "https://lafourche.fr/collections/nouveautes?page=\n"
          ],
          "name": "stdout"
        }
      ]
    },
    {
      "cell_type": "code",
      "metadata": {
        "id": "lXAz7jw79ooT"
      },
      "source": [
        "df_produits = pd.DataFrame(liste_produits)"
      ],
      "execution_count": 5,
      "outputs": []
    },
    {
      "cell_type": "code",
      "metadata": {
        "colab": {
          "base_uri": "https://localhost:8080/",
          "height": 32
        },
        "id": "6NQlqZO_8jaA",
        "outputId": "2dfd1a36-9d14-4023-c92e-19bdfe0f8763"
      },
      "source": [
        "df_produits"
      ],
      "execution_count": 6,
      "outputs": [
        {
          "output_type": "execute_result",
          "data": {
            "text/html": [
              "<div>\n",
              "<style scoped>\n",
              "    .dataframe tbody tr th:only-of-type {\n",
              "        vertical-align: middle;\n",
              "    }\n",
              "\n",
              "    .dataframe tbody tr th {\n",
              "        vertical-align: top;\n",
              "    }\n",
              "\n",
              "    .dataframe thead th {\n",
              "        text-align: right;\n",
              "    }\n",
              "</style>\n",
              "<table border=\"1\" class=\"dataframe\">\n",
              "  <thead>\n",
              "    <tr style=\"text-align: right;\">\n",
              "      <th></th>\n",
              "    </tr>\n",
              "  </thead>\n",
              "  <tbody>\n",
              "  </tbody>\n",
              "</table>\n",
              "</div>"
            ],
            "text/plain": [
              "Empty DataFrame\n",
              "Columns: []\n",
              "Index: []"
            ]
          },
          "metadata": {},
          "execution_count": 6
        }
      ]
    },
    {
      "cell_type": "markdown",
      "metadata": {
        "id": "WmoEHzfXs-Nd"
      },
      "source": [
        "Scrap Aurore Market\n"
      ]
    },
    {
      "cell_type": "code",
      "metadata": {
        "colab": {
          "base_uri": "https://localhost:8080/"
        },
        "id": "UlfHu33PtDWj",
        "outputId": "762dd249-123e-4b0c-a84c-94b1ec85dd70"
      },
      "source": [
        "liste_produits_aurore = []\n",
        "\n",
        "url_a_scrapper = [\"https://auroremarket.fr/epicerie/?p=\", \"https://auroremarket.fr/vrac/?p=\", \"https://auroremarket.fr/hygiene-et-beaute/?p=\", \"https://auroremarket.fr/sante/?p=\", \"https://auroremarket.fr/bebe-et-enfant/?p=\", \"https://auroremarket.fr/vins-bieres-et-alcool/?p=\", \"https://auroremarket.fr/tout-pour-la-maison/?p=\"]\n",
        "categories = [\"epicerie\", \"vrac\", \"hygiene\", \"santé\", \"bebe et enfants\", \"alcools\", \"maison\"]\n",
        "\n",
        "\n",
        "for i in range(0, len(url_a_scrapper)):\n",
        "    print(url_a_scrapper[i])\n",
        "    url = url_a_scrapper[i]+str(1)\n",
        "    r = requests.get(url)\n",
        "    content = r.content\n",
        "    page = BeautifulSoup(content,'html.parser')\n",
        "    pagination = page.find('ul', class_=\"pagination\")\n",
        "    cb_pagination = pagination.find_all('li')\n",
        "    nb_pages = cb_pagination[-2]\n",
        "    nb = nb_pages.text\n",
        "\n",
        "    print(nb)\n",
        "\n",
        "    for k in range(1,int(nb)):\n",
        "\n",
        "        url = url_a_scrapper[i]+str(k)\n",
        "        r = requests.get(url)\n",
        "        content = r.content\n",
        "        page = BeautifulSoup(content,'html.parser')\n",
        "        produits = page.find_all('div', class_=\"right-block\")\n",
        "        categorie = categories[i]\n",
        "        \n",
        "        for x in range(len(produits)):\n",
        "            nom_produit = produits[x].find(\"span\", class_=\"product-name-container\").text\n",
        "            try:\n",
        "\n",
        "                prix_produit = produits[x].find(\"span\", class_=\"price product-price\").text\n",
        "            except:\n",
        "                prix_produit = \"pas de prix\"\n",
        "                # print(\"il nya pas de prix\" + url_a_scrapper[i] + \" à la page \" + str(k))\n",
        "            ratio_produit = produits[x].find(\"span\", class_=\"am_prix_kg\").text\n",
        "            liste_produits_aurore.append([nom_produit, prix_produit, ratio_produit, categorie])\n",
        "\n",
        "\n",
        "df_produits_aurore = pd.DataFrame(liste_produits_aurore)\n",
        "print(df_produits_aurore)"
      ],
      "execution_count": 7,
      "outputs": [
        {
          "output_type": "stream",
          "text": [
            "https://auroremarket.fr/epicerie/?p=\n",
            "  157 \n",
            "https://auroremarket.fr/vrac/?p=\n",
            "  19 \n",
            "https://auroremarket.fr/hygiene-et-beaute/?p=\n",
            "  58 \n",
            "https://auroremarket.fr/sante/?p=\n",
            "  24 \n",
            "https://auroremarket.fr/bebe-et-enfant/?p=\n",
            "  24 \n",
            "https://auroremarket.fr/vins-bieres-et-alcool/?p=\n",
            "  8 \n",
            "https://auroremarket.fr/tout-pour-la-maison/?p=\n",
            "  22 \n",
            "                                               0  ...         3\n",
            "0              Huile d'olive extra vierge - 1l    ...  epicerie\n",
            "1               VRAC - Abricots secs  - 250 g     ...  epicerie\n",
            "2             VRAC - Tomates séchées  - 250 g     ...  epicerie\n",
            "3               VRAC - Figues lérida  - 500 g     ...  epicerie\n",
            "4              Huile d'olive extra vierge - 3l    ...  epicerie\n",
            "...                                          ...  ...       ...\n",
            "9464        Absorbant d'odeurs naturel agrumes    ...    maison\n",
            "9465      Vrac - Charbon actif kishu binchotan    ...    maison\n",
            "9466             Calebasse et paille pour maté    ...    maison\n",
            "9467   Absorbant d'odeur naturel réfrigérateur    ...    maison\n",
            "9468                    Pierre d'argile - 300g    ...    maison\n",
            "\n",
            "[9469 rows x 4 columns]\n"
          ],
          "name": "stdout"
        }
      ]
    },
    {
      "cell_type": "markdown",
      "metadata": {
        "id": "wyKaFvWtjrKp"
      },
      "source": [
        "\n",
        "\n",
        "### Scrap Naturalia\n"
      ]
    },
    {
      "cell_type": "code",
      "metadata": {
        "colab": {
          "base_uri": "https://localhost:8080/"
        },
        "id": "Ksgh4mGdWRdU",
        "outputId": "06b9a7d1-41da-4395-a43a-0e0959f394d8"
      },
      "source": [
        "liste_produits_naturalia = []\n",
        "\n",
        "url_a_scrapper = [\"https://www.naturalia.fr/epicerie-salee?p=\", \"https://www.naturalia.fr/epicerie-sucree?p=\", \"https://www.naturalia.fr/produits-en-vrac?p=\", \"https://www.naturalia.fr/boissons?p=\", \"https://www.naturalia.fr/bebe?p=\", \"https://www.naturalia.fr/complements-alimentaire?p=\" \"https://www.naturalia.fr/maison?p=\"]\n",
        "categories = [\"epicerie_salée\", \"epicerie_sucrée \", \"vrac\" , \"boissons\", \"bebe et enfants\", \"sante et bien etre\", \"maison\"]\n",
        "\n",
        "\n",
        "for i in range(0, len(url_a_scrapper)):\n",
        "    print(url_a_scrapper[i])\n",
        "    for k in range(1,54):\n",
        "\n",
        "        try:\n",
        "            url = url_a_scrapper[i]+str(k)\n",
        "            r = requests.get(url)\n",
        "            content = r.content\n",
        "            page = BeautifulSoup(content,'html.parser')\n",
        "            produits = page.find_all('div', class_=\"product-item-info\")\n",
        "            categorie = categories[i]\n",
        "            \n",
        "            for x in range(len(produits)):\n",
        "                nom_produit = produits[x].find('p', class_ =\"product name product-item-name\").text.replace(\"\\n\\n                                    \", \"\")\n",
        "\n",
        "                prix_produit = produits[x].find('span', class_ ='price').text\n",
        "                \n",
        "                \n",
        "                liste_produits_naturalia.append([nom_produit, prix_produit, categorie])\n",
        "            \n",
        "        except:\n",
        "            print(\"il n'y a plus de page\" +str(k))\n",
        "    \n",
        "df_produits_naturalia = pd.DataFrame(liste_produits_naturalia)\n",
        "print(df_produits_naturalia)\n"
      ],
      "execution_count": 8,
      "outputs": [
        {
          "output_type": "stream",
          "text": [
            "https://www.naturalia.fr/epicerie-salee?p=\n",
            "https://www.naturalia.fr/epicerie-sucree?p=\n",
            "https://www.naturalia.fr/produits-en-vrac?p=\n",
            "https://www.naturalia.fr/boissons?p=\n",
            "https://www.naturalia.fr/bebe?p=\n",
            "https://www.naturalia.fr/complements-alimentaire?p=https://www.naturalia.fr/maison?p=\n",
            "                                                      0  ...                2\n",
            "0             Vinaigre de Riz 310ml Bio\\t\\t\\t\\t\\t\\t\\t\\n  ...   epicerie_salée\n",
            "1      Céréales petit épeautre 500g Bio\\t\\t\\t\\t\\t\\t\\t\\n  ...   epicerie_salée\n",
            "2        Quinoa Real de Bolivie 1Kg Bio\\t\\t\\t\\t\\t\\t\\t\\n  ...   epicerie_salée\n",
            "3               Trio Lentilles 500g Bio\\t\\t\\t\\t\\t\\t\\t\\n  ...   epicerie_salée\n",
            "4     Duo de quinoa blanc et rouge 500g Bio\\t\\t\\t\\t\\...  ...   epicerie_salée\n",
            "...                                                 ...  ...              ...\n",
            "3062  Tisane d'allaitement Fenouil & Verveine 40g Bi...  ...  bebe et enfants\n",
            "3063  Bain shampooing ultra doux bébé 1L Bio\\t\\t\\t\\t...  ...  bebe et enfants\n",
            "3064  Tisane d'Allaitement - 20 Sachets Bio\\t\\t\\t\\t\\...  ...  bebe et enfants\n",
            "3065    Beurre de karité miel 100G  Bio\\t\\t\\t\\t\\t\\t\\t\\n  ...  bebe et enfants\n",
            "3066  Lait de Croissance 3 Combiotic® 10M 1L Bio\\t\\t...  ...  bebe et enfants\n",
            "\n",
            "[3067 rows x 3 columns]\n"
          ],
          "name": "stdout"
        }
      ]
    },
    {
      "cell_type": "markdown",
      "metadata": {
        "id": "wHF66BB9jSdd"
      },
      "source": [
        "Entrer tous les resultats dans Google Sheet\n",
        "\n"
      ]
    },
    {
      "cell_type": "code",
      "metadata": {
        "id": "RnRP_ysuw2Do"
      },
      "source": [
        "\n",
        "\n",
        "# authenticate\n",
        "from google.colab import auth\n",
        "auth.authenticate_user()\n",
        "import gspread\n",
        "from oauth2client.client import GoogleCredentials as GC\n",
        "gc = gspread.authorize(GC.get_application_default())\n",
        "# # create, and save df\n",
        "from gspread_dataframe import set_with_dataframe\n",
        "import time\n",
        "from datetime import date\n",
        "today = str(date.today())\n",
        "\n",
        "\n",
        "title = 'Scrap_concu_intendance_'+ today \n",
        "sheet = gc.create(title)  # Create the worksheet\n",
        "\n",
        "#Add a specific worksheet --- La fourche\n",
        "worksheet_la_fourche = sheet.sheet1\n",
        "set_with_dataframe(worksheet_la_fourche, df_produits)\n",
        "\n",
        "#Add a specific worksheet --- Aurore_market\n",
        "sheet.add_worksheet(title=\"scrap_aurore_market\", rows=\"10000\", cols=\"20\")\n",
        "aurore_sheet = sheet.worksheet(\"scrap_aurore_market\")\n",
        "set_with_dataframe(aurore_sheet, df_produits_aurore)\n",
        "\n",
        "#Add a specific worksheet --- Naturalia\n",
        "sheet.add_worksheet(title=\"scrap_naturalia\", rows=\"10000\", cols=\"20\")\n",
        "naturalia_sheet = sheet.worksheet(\"scrap_naturalia\")\n",
        "set_with_dataframe(naturalia_sheet, df_produits_naturalia)\n",
        "\n"
      ],
      "execution_count": 9,
      "outputs": []
    }
  ]
}